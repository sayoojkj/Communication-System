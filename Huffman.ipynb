{
 "cells": [
  {
   "cell_type": "code",
   "execution_count": 1,
   "id": "a034e082",
   "metadata": {},
   "outputs": [
    {
     "name": "stdout",
     "output_type": "stream",
     "text": [
      "Encoded text: 1101001111111000000101\n",
      "Huffman codes: {'5': '00', '2': '010', '3': '011', '4': '100', '7': '101', '1': '11'}\n"
     ]
    }
   ],
   "source": [
    "from collections import Counter\n",
    "\n",
    "class Node:\n",
    "    def __init__(self, freq, symbol=None):\n",
    "        self.freq = freq\n",
    "        self.symbol = symbol\n",
    "        self.left = None\n",
    "        self.right = None\n",
    "\n",
    "def huffman_encode(text):\n",
    "    frequency = Counter(text)\n",
    "    queue = [Node(freq, symbol) for symbol, freq in frequency.items()]\n",
    "\n",
    "    while len(queue) > 1:\n",
    "        queue = sorted(queue, key=lambda node: node.freq)\n",
    "        left = queue.pop(0)\n",
    "        right = queue.pop(0)\n",
    "        parent = Node(left.freq + right.freq)\n",
    "        parent.left = left\n",
    "        parent.right = right\n",
    "        queue.append(parent)\n",
    "        \n",
    "    codes = {}\n",
    "    def generate_codes(node, code=\"\"):\n",
    "        if node.symbol:\n",
    "            codes[node.symbol] = code\n",
    "        else:\n",
    "            generate_codes(node.left, code + \"0\")\n",
    "            generate_codes(node.right, code + \"1\")\n",
    "\n",
    "    root = queue[0]\n",
    "    generate_codes(root)\n",
    "    encoded_text = ''.join(codes[symbol] for symbol in text)\n",
    "\n",
    "    return encoded_text, codes\n",
    "\n",
    "\n",
    "text = \"123114557\"\n",
    "encoded_text, codes = huffman_encode(text)\n",
    "print(\"Encoded text:\", encoded_text)\n",
    "print(\"Huffman codes:\", codes)"
   ]
  },
  {
   "cell_type": "code",
   "execution_count": 2,
   "id": "627dcc53",
   "metadata": {},
   "outputs": [
    {
     "name": "stdout",
     "output_type": "stream",
     "text": [
      "Decoded text: 123114557\n"
     ]
    }
   ],
   "source": [
    "def huffman_decode(encoded_text, codes):\n",
    "    reverse_codes = {code: symbol for symbol, code in codes.items()}\n",
    "\n",
    "    decoded_text = \"\"\n",
    "    current_code = \"\"\n",
    "    for bit in encoded_text:\n",
    "        current_code += bit\n",
    "        if current_code in reverse_codes:\n",
    "            symbol = reverse_codes[current_code]\n",
    "            decoded_text += symbol\n",
    "            current_code = \"\"\n",
    "\n",
    "    return decoded_text\n",
    "\n",
    "decoded_text = huffman_decode(encoded_text, codes)\n",
    "print(\"Decoded text:\", decoded_text)"
   ]
  },
  {
   "cell_type": "code",
   "execution_count": null,
   "id": "e79f443e",
   "metadata": {},
   "outputs": [],
   "source": []
  }
 ],
 "metadata": {
  "kernelspec": {
   "display_name": "Python 3 (ipykernel)",
   "language": "python",
   "name": "python3"
  },
  "language_info": {
   "codemirror_mode": {
    "name": "ipython",
    "version": 3
   },
   "file_extension": ".py",
   "mimetype": "text/x-python",
   "name": "python",
   "nbconvert_exporter": "python",
   "pygments_lexer": "ipython3",
   "version": "3.9.7"
  }
 },
 "nbformat": 4,
 "nbformat_minor": 5
}
